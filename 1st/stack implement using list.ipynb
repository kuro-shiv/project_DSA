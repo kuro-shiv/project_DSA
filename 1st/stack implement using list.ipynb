{
 "cells": [
  {
   "cell_type": "code",
   "execution_count": 1,
   "id": "c50a99f6-9bb1-46f8-8ff1-114513771775",
   "metadata": {},
   "outputs": [
    {
     "name": "stdout",
     "output_type": "stream",
     "text": [
      "Stack after pushesh: [101, 201, 301]\n",
      "stack after poping : [101, 201]\n",
      "stack after pusing : [101, 201, 301]\n",
      "stack top element : 301\n"
     ]
    }
   ],
   "source": [
    "stack = []\n",
    "stack.append(101)\n",
    "stack.append(201)\n",
    "stack.append(301)\n",
    "print(\"Stack after pushesh:\", stack)\n",
    "stack.pop()\n",
    "print (\"stack after poping :\", stack)\n",
    "stack.append(301)\n",
    "print (\"stack after pusing :\", stack)\n",
    "top_element = stack[-1]\n",
    "print (\"stack top element :\", top_element)"
   ]
  },
  {
   "cell_type": "code",
   "execution_count": 2,
   "id": "cd723671-ecfe-40b3-9352-d9773881fef2",
   "metadata": {},
   "outputs": [
    {
     "name": "stdout",
     "output_type": "stream",
     "text": [
      "currtent stack:  [10, 20]\n",
      "currtent stack:  [10]\n",
      "currtent stack:  []\n",
      "Is the stack is empty? True\n"
     ]
    }
   ],
   "source": [
    "stacks = [10,20,30]\n",
    "\n",
    "def is_empty(stacks):\n",
    "    return len(stacks) == 0\n",
    "\n",
    "while not is_empty(stacks):\n",
    "    stacks.pop()\n",
    "    print(\"currtent stack: \", stacks)\n",
    "\n",
    "print (\"Is the stack is empty?\", is_empty(stacks))"
   ]
  },
  {
   "cell_type": "code",
   "execution_count": null,
   "id": "d423d7e2-41e6-4790-9f57-ea3d30dbf4ae",
   "metadata": {},
   "outputs": [],
   "source": []
  }
 ],
 "metadata": {
  "kernelspec": {
   "display_name": "Python 3 (ipykernel)",
   "language": "python",
   "name": "python3"
  },
  "language_info": {
   "codemirror_mode": {
    "name": "ipython",
    "version": 3
   },
   "file_extension": ".py",
   "mimetype": "text/x-python",
   "name": "python",
   "nbconvert_exporter": "python",
   "pygments_lexer": "ipython3",
   "version": "3.13.0"
  }
 },
 "nbformat": 4,
 "nbformat_minor": 5
}
