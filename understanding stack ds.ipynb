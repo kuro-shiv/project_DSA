{
 "cells": [
  {
   "cell_type": "code",
   "execution_count": 1,
   "id": "f125ef44-2330-42af-accc-983cb1897214",
   "metadata": {},
   "outputs": [
    {
     "name": "stdout",
     "output_type": "stream",
     "text": [
      "Stack after pushesh: [10, 20, 30]\n",
      "poped item :  30\n",
      "stack after pop :  [10, 20]\n"
     ]
    }
   ],
   "source": [
    "stack = []\n",
    "stack.append(10)\n",
    "stack.append(20)\n",
    "stack.append(30)\n",
    "print(\"Stack after pushesh:\", stack)\n",
    "popped_item = stack.pop()\n",
    "print (\"poped item : \", popped_item)\n",
    "print (\"stack after pop : \", stack)\n"
   ]
  },
  {
   "cell_type": "code",
   "execution_count": 6,
   "id": "4b9ab92b-ee5d-4074-b583-60d75a446e8f",
   "metadata": {},
   "outputs": [],
   "source": [
    "top_item = stack[-1]"
   ]
  },
  {
   "cell_type": "code",
   "execution_count": 7,
   "id": "6bd9c0b4-3b19-41af-8316-c3871acfff76",
   "metadata": {},
   "outputs": [
    {
     "name": "stdout",
     "output_type": "stream",
     "text": [
      "print the top item 20\n",
      "stack after peek :  [10, 20]\n"
     ]
    }
   ],
   "source": [
    "print (\"print the top item\", top_item)\n",
    "print(\"stack after peek : \", stack)"
   ]
  },
  {
   "cell_type": "code",
   "execution_count": null,
   "id": "9a67e208-62f9-448a-b576-7304be7b6bd9",
   "metadata": {},
   "outputs": [],
   "source": []
  }
 ],
 "metadata": {
  "kernelspec": {
   "display_name": "Python 3 (ipykernel)",
   "language": "python",
   "name": "python3"
  },
  "language_info": {
   "codemirror_mode": {
    "name": "ipython",
    "version": 3
   },
   "file_extension": ".py",
   "mimetype": "text/x-python",
   "name": "python",
   "nbconvert_exporter": "python",
   "pygments_lexer": "ipython3",
   "version": "3.13.0"
  }
 },
 "nbformat": 4,
 "nbformat_minor": 5
}
